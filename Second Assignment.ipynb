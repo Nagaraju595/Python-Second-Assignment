{
 "cells": [
  {
   "cell_type": "markdown",
   "id": "13a9e28a",
   "metadata": {},
   "source": [
    "# 1.What are the two values of the Boolean data type? How do you write them?"
   ]
  },
  {
   "cell_type": "markdown",
   "id": "921730c3",
   "metadata": {},
   "source": [
    "There are two Boolean. values: True and False. Values in Python can be  using in comparison operations, and Boolean logic can be formulated with the use of logic operations.\n",
    "\n",
    " variable of the primitive data type boolean has two values: true and false (Boolean literals). or off. Boolean expressions use relational and logical operators.Boolean expression is either true or false."
   ]
  },
  {
   "cell_type": "markdown",
   "id": "ec752b91",
   "metadata": {},
   "source": [
    "# What are the three different types of Boolean operators?"
   ]
  },
  {
   "cell_type": "markdown",
   "id": "8bed0827",
   "metadata": {},
   "source": [
    "AND, OR, NOT\n",
    "There are three basic Boolean search commands: AND, OR and NOT.\n",
    "\n",
    "Logical operators are typically used to evaluate whether two or more expressions are true or not true. For example, they can be used to determine if the grade is passing and that the student is registered in the course. If both of these cases are true, then the student will be assigned a grade in the system. Another example would be to determine whether a user is a valid active customer of an online shop based on whether they have store credit or have made a purchase in the past 6 months.\n",
    "\n",
    "Operator\tWhat it means\tExample\n",
    "and\tTrue if both are true\tx and y\n",
    "or\tTrue if at least one is true\tx or y\n",
    "not\tTrue only if false\tnot x\n",
    "\n",
    "\n",
    "== Truth Table\n",
    "\n",
    "\n",
    "x\t==\ty\tReturns\n",
    "\n",
    "\n",
    "True\t==\tTrue\tTrue\n",
    "\n",
    "\n",
    "\n",
    "True\t==\tFalse\tFalse\n",
    "\n",
    "\n",
    "\n",
    "False\t==\tTrue\tFalse\n",
    "\n",
    "\n",
    "\n",
    "False\t==\tFalse\tTrue\n",
    "\n",
    "\n",
    "\n",
    "AND Truth Table:\n",
    "\n",
    "\n",
    "\n",
    "x\tand\ty\tReturns\n",
    "\n",
    "\n",
    "\n",
    "True\tand\tTrue\tTrue\n",
    "\n",
    "\n",
    "\n",
    "True\tand\tFalse\tFalse\n",
    "\n",
    "\n",
    "False\tand\tTrue\tFalse\n",
    "\n",
    "\n",
    "False\tand\tFalse\tFalse\n",
    "\n",
    "\n",
    "OR Truth Table:\n",
    "\n",
    "\n",
    "x\tor\ty\tReturns\n",
    "\n",
    "\n",
    "\n",
    "True\tor\tTrue\tTrue\n",
    "\n",
    "\n",
    "True\tor\tFalse\tTrue\n",
    "\n",
    "\n",
    "False\tor\tTrue\tTrue\n",
    "\n",
    "\n",
    "\n",
    "False\tor\tFalse\tFalse\n",
    "\n",
    "\n",
    "\n",
    "NOT Truth Table:\n",
    "\n",
    "\n",
    "\n",
    "not\tx\tReturns\n",
    "\n",
    "\n",
    "not\tTrue\tFalse\n",
    "\n",
    "\n",
    "not\tFalse\tTrue"
   ]
  },
  {
   "cell_type": "markdown",
   "id": "ee8b8674",
   "metadata": {},
   "source": [
    "# 3. Make a list of each Boolean operator&#39;s truth tables (i.e. every possible combination of Boolean\n",
    "values for the operator and what it evaluate )."
   ]
  },
  {
   "cell_type": "markdown",
   "id": "5903e650",
   "metadata": {},
   "source": [
    "== Truth Table\n",
    "\n",
    "\n",
    "x\t==\ty\tReturns\n",
    "\n",
    "\n",
    "True\t==\tTrue\tTrue\n",
    "\n",
    "\n",
    "True\t==\tFalse\tFalse\n",
    "\n",
    "\n",
    "False\t==\tTrue\tFalse\n",
    "\n",
    "\n",
    "False\t==\tFalse\tTrue\n",
    "\n",
    "\n",
    "AND Truth Table\n",
    "\n",
    "\n",
    "x\tand\ty\tReturns\n",
    "\n",
    "\n",
    "True\tand\tTrue\tTrue\n",
    "\n",
    "\n",
    "True\tand\tFalse\tFalse\n",
    "\n",
    "\n",
    "False\tand\tTrue\tFalse\n",
    "\n",
    "\n",
    "False\tand\tFalse\tFalse\n",
    "\n",
    "\n",
    "\n",
    "OR Truth Table\n",
    "\n",
    "\n",
    "\n",
    "x\tor\ty\tReturns\n",
    "\n",
    "\n",
    "True\tor\tTrue\tTrue\n",
    "\n",
    "\n",
    "\n",
    "True\tor\tFalse\tTrue\n",
    "\n",
    "\n",
    "False\tor\tTrue\tTrue\n",
    "\n",
    "\n",
    "False\tor\tFalse\tFalse\n",
    "\n",
    "\n",
    "NOT Truth Table\n",
    "\n",
    "\n",
    "\n",
    "not\tx\tReturns\n",
    "\n",
    "\n",
    "not\tTrue\tFalse\n",
    "\n",
    "\n",
    "not\tFalse\tTrue\n",
    "\n",
    "\n",
    "\n",
    "True is 1 and False is 0\n",
    "\n",
    "\n",
    "\n",
    "Truth Table for AND\n",
    "\n",
    "\n",
    "\n",
    "A B output\n",
    "\n",
    "\n",
    "0 0 0\n",
    "\n",
    "\n",
    "0 1 0\n",
    "\n",
    "\n",
    "1 0 0\n",
    "\n",
    "\n",
    "\n",
    "1 1 1\n",
    "\n",
    "\n",
    "Truth Table for OR\n",
    "\n",
    "\n",
    "A B output\n",
    "\n",
    "\n",
    "\n",
    "0 0 0\n",
    "\n",
    "\n",
    "0 1 1\n",
    "\n",
    "\n",
    "\n",
    "1 0 1\n",
    "\n",
    "\n",
    "\n",
    "1 1 1\n",
    "\n",
    "\n",
    "\n",
    "Truth Table for NOT\n",
    "\n",
    "\n",
    "\n",
    "A output\n",
    "\n",
    "\n",
    "\n",
    "0 1\n",
    "\n",
    "\n",
    "\n",
    "1 0"
   ]
  },
  {
   "cell_type": "markdown",
   "id": "81383ac3",
   "metadata": {},
   "source": [
    "# 4. What are the values of the following expressions?\n",
    "(5 &gt; 4) and (3 == 5)\n",
    "not (5 &gt; 4)\n",
    "(5 &gt; 4) or (3 == 5)\n",
    "not ((5 &gt; 4) or (3 == 5))\n",
    "(True and True) and (True == False)\n",
    "(not False) or (not True)\n",
    "\n",
    "\n",
    "False\n",
    "\n",
    "\n",
    "False\n",
    "\n",
    "\n",
    "\n",
    "\n",
    "True\n",
    "\n",
    "\n",
    "\n",
    "False\n",
    "\n",
    "\n",
    "\n",
    "\n",
    "False\n",
    "\n",
    "\n",
    "\n",
    "True"
   ]
  },
  {
   "cell_type": "markdown",
   "id": "05b74557",
   "metadata": {},
   "source": [
    "# 5. What are the six comparison operators? "
   ]
  },
  {
   "cell_type": "markdown",
   "id": "a164d5e1",
   "metadata": {},
   "source": [
    "A comparison operator compares two values and it returns a boolean value, either True or False . Python has six comparison operators: less than ( < ), less than or equal to ( <= ), greater than ( > ), greater than or equal to ( >= ), equal to ( == ), and not equal to ( != )."
   ]
  },
  {
   "cell_type": "markdown",
   "id": "84b5b383",
   "metadata": {},
   "source": [
    "# 6. How do you tell the difference between the equal to and assignment operators?Describe a\n",
    "condition and when you would use one.\n",
    "\n",
    "== is the equal to operator that compares two values and evaluates to a Boolean, while = is the assignment operator that stores a value in a variable.\n",
    "\n",
    "The “=” is an assignment operator is used to assign the value on the right to the variable on the left. The '==' operator checks whether the two given operands are equal or not. If so, it returns true. Otherwise it returns false.\n"
   ]
  },
  {
   "cell_type": "markdown",
   "id": "9445cd07",
   "metadata": {},
   "source": [
    "# 7. Identify the three blocks in this code:\n",
    "spam = 0\n",
    "if spam == 10:\n",
    "print(&#39;eggs&#39;)\n",
    "if spam &gt; 5:\n",
    "print(&#39;bacon&#39;)\n",
    "else:\n",
    "print(&#39;ham&#39;)\n",
    "print(&#39;spam&#39;)\n",
    "print(&#39;spam&#39;)\n",
    "\n",
    "\n",
    "Ans:\n",
    "The three blocks are everything inside the if statement and the lines print('bacon') and print('ham').\n",
    "\n",
    "print('eggs')\n",
    "if spam > 5:\n",
    "print('bacon')\n",
    "else:\n",
    "print('ham')\n",
    "print('spam')\n"
   ]
  },
  {
   "cell_type": "code",
   "execution_count": 8,
   "id": "123f1771",
   "metadata": {},
   "outputs": [
    {
     "name": "stdout",
     "output_type": "stream",
     "text": [
      "ham\n",
      "spam\n",
      "spam\n"
     ]
    }
   ],
   "source": [
    "\n",
    " spam = 0\n",
    "if spam == 10:\n",
    "    print('eggs') #Block 1\n",
    "if spam > 5:\n",
    "    print('bacon') #Block 2\n",
    "else:\n",
    "    print('ham') #Block 3\n",
    "    print('spam')\n",
    "    print('spam')   "
   ]
  },
  {
   "cell_type": "markdown",
   "id": "60c10589",
   "metadata": {},
   "source": [
    "# 8. Write code that prints Hello if 1 is stored in spam, prints Howdy if 2 is stored in spam, and prints\n",
    "Greetings! if anything else is stored in spam.\n",
    "\n"
   ]
  },
  {
   "cell_type": "code",
   "execution_count": 9,
   "id": "1542ce9e",
   "metadata": {},
   "outputs": [
    {
     "name": "stdout",
     "output_type": "stream",
     "text": [
      "Input a no.34\n",
      "Greetings!\n"
     ]
    }
   ],
   "source": [
    "spam = int(input(\"Input a no.\"))\n",
    "if spam == 1:\n",
    "    print(\"Hello\")\n",
    "elif spam == 2:\n",
    "    print(\"Howdy\")\n",
    "else:\n",
    "    print(\"Greetings!\")\n",
    "        "
   ]
  },
  {
   "cell_type": "markdown",
   "id": "82dc9855",
   "metadata": {},
   "source": [
    "# 9.If your programme is stuck in an endless loop, what keys you’ll press?\n",
    "\n",
    "Press CTRL-C to stop a program stuck in an infinite loop."
   ]
  },
  {
   "cell_type": "markdown",
   "id": "19407a66",
   "metadata": {},
   "source": [
    "# 10. How can you tell the difference between break and continue?\n",
    "\n",
    "\n",
    "The main difference between both the statements is that when break keyword comes, it terminates the execution of the current loop and passes the control over the next loop or main body, whereas when continue keyword is encountered, it skips the current iteration and executes the very next iteration in the loop"
   ]
  },
  {
   "cell_type": "code",
   "execution_count": 11,
   "id": "036040bb",
   "metadata": {},
   "outputs": [
    {
     "name": "stdout",
     "output_type": "stream",
     "text": [
      "0\n",
      "1\n",
      "2\n",
      "3\n",
      "4\n",
      "5\n",
      "6\n",
      "Breaked\n",
      "0\n",
      "1\n",
      "2\n",
      "3\n",
      "4\n",
      "5\n",
      "6\n",
      "8\n",
      "9\n"
     ]
    }
   ],
   "source": [
    "# use of break\n",
    "for i in range(10):\n",
    "    if(i==7):\n",
    "        break\n",
    "    print(i)\n",
    "    \n",
    "print('Breaked')\n",
    "#use of  continue\n",
    "for i in range(10):\n",
    "    if(i==7):\n",
    "        continue\n",
    "    print(i)\n",
    "    \n",
    "    \n",
    "    #The break statement will move the execution outside and just after a loop. The continue statement will move the execution to the start of the loop.\n",
    "    "
   ]
  },
  {
   "cell_type": "markdown",
   "id": "6b23af0a",
   "metadata": {},
   "source": [
    "# 11. In a for loop, what is the difference between range(10), range(0, 10), and range(0, 10, 1)?"
   ]
  },
  {
   "cell_type": "code",
   "execution_count": 13,
   "id": "d967be2a",
   "metadata": {},
   "outputs": [
    {
     "name": "stdout",
     "output_type": "stream",
     "text": [
      "0\n",
      "1\n",
      "2\n",
      "3\n",
      "4\n",
      "5\n",
      "6\n",
      "7\n",
      "8\n",
      "9\n",
      "the difference between range of 10 is upto this only\n",
      "0\n",
      "1\n",
      "2\n",
      "3\n",
      "4\n",
      "5\n",
      "6\n",
      "7\n",
      "8\n",
      "9\n",
      "the difference between range 0 to 10 upto this only\n",
      "0\n",
      "1\n",
      "2\n",
      "3\n",
      "4\n",
      "5\n",
      "6\n",
      "7\n",
      "8\n",
      "9\n"
     ]
    }
   ],
   "source": [
    "for i in range(10):\n",
    "    print(i)\n",
    "print(\"the difference between range of 10 is upto this only\") \n",
    "for i in range(0,10):\n",
    "    print(i)\n",
    "print(\"the difference between range 0 to 10 upto this only\")\n",
    "for i in range(0,10,1):\n",
    "    print(i)\n",
    "    \n",
    "    #From the above output we can conclude that they all do the same thing. The range(10) call ranges from 0 up to (but not including) 10, range(0, 10) tells the loop to start at 0, and range(0, 10, 1) tells the loop to increase the variable by 1 on each iteration."
   ]
  },
  {
   "cell_type": "markdown",
   "id": "096f8120",
   "metadata": {},
   "source": [
    "# 12. Write a short program that prints the numbers 1 to 10 using a for loop. Then write an equivalent\n",
    "program that prints the numbers 1 to 10 using a while loop."
   ]
  },
  {
   "cell_type": "code",
   "execution_count": 14,
   "id": "6559e6c7",
   "metadata": {},
   "outputs": [
    {
     "name": "stdout",
     "output_type": "stream",
     "text": [
      "For Loop\n",
      "1\n",
      "2\n",
      "3\n",
      "4\n",
      "5\n",
      "6\n",
      "7\n",
      "8\n",
      "9\n",
      "10\n",
      "While Loop\n",
      "1\n",
      "2\n",
      "3\n",
      "4\n",
      "5\n",
      "6\n",
      "7\n",
      "8\n",
      "9\n",
      "10\n"
     ]
    }
   ],
   "source": [
    "#Use of For Loop\n",
    "print(\"For Loop\")\n",
    "for i in range(1,11):\n",
    "    print(i)\n",
    "#Use of While Loop\n",
    "print(\"While Loop\")\n",
    "a =1\n",
    "while a <= 10:\n",
    "    print(a)\n",
    "    a+=1"
   ]
  },
  {
   "cell_type": "markdown",
   "id": "902e3259",
   "metadata": {},
   "source": [
    "# 13. If you had a function named bacon() inside a module named spam, how would you call it after\n",
    "importing spam?\n",
    "\n",
    "\n",
    "This function can be called with spam.bacon()."
   ]
  },
  {
   "cell_type": "code",
   "execution_count": null,
   "id": "1f2e60ce",
   "metadata": {},
   "outputs": [],
   "source": []
  }
 ],
 "metadata": {
  "kernelspec": {
   "display_name": "Python 3 (ipykernel)",
   "language": "python",
   "name": "python3"
  },
  "language_info": {
   "codemirror_mode": {
    "name": "ipython",
    "version": 3
   },
   "file_extension": ".py",
   "mimetype": "text/x-python",
   "name": "python",
   "nbconvert_exporter": "python",
   "pygments_lexer": "ipython3",
   "version": "3.9.7"
  }
 },
 "nbformat": 4,
 "nbformat_minor": 5
}
